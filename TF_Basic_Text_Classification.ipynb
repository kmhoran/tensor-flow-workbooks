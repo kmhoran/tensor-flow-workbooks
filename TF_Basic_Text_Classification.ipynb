{
 "cells": [
  {
   "cell_type": "code",
   "execution_count": 2,
   "metadata": {},
   "outputs": [
    {
     "name": "stdout",
     "output_type": "stream",
     "text": [
      "2.0.0-alpha0\n"
     ]
    }
   ],
   "source": [
    "# in this project, we will be classifying movie reviews as positive :) or negative :(\n",
    "# Let's get things started\n",
    "from __future__ import absolute_import, division, print_function, unicode_literals\n",
    "\n",
    "!pip install -q tensorflow==2.0.0-alpha0\n",
    "import tensorflow as tf\n",
    "from tensorflow import keras\n",
    "\n",
    "import numpy as np\n",
    "\n",
    "print(tf.__version__)"
   ]
  },
  {
   "cell_type": "code",
   "execution_count": 3,
   "metadata": {},
   "outputs": [
    {
     "name": "stdout",
     "output_type": "stream",
     "text": [
      "Downloading data from https://storage.googleapis.com/tensorflow/tf-keras-datasets/imdb.npz\n",
      "17465344/17464789 [==============================] - 6s 0us/step\n"
     ]
    }
   ],
   "source": [
    "# import imdb data sets\n",
    "imdb = keras.datasets.imdb\n",
    "\n",
    "(train_data, train_labels), (test_data, test_labels) = imdb.load_data(num_words=10000)"
   ]
  },
  {
   "cell_type": "code",
   "execution_count": 5,
   "metadata": {},
   "outputs": [
    {
     "name": "stdout",
     "output_type": "stream",
     "text": [
      "Training entries count: 25000, labels: 25000\n",
      "sample: \n",
      "    [1, 14, 22, 16, 43, 530, 973, 1622, 1385, 65, 458, 4468, 66, 3941, 4, 173, 36, 256, 5, 25, 100, 43, 838, 112, 50, 670, 2, 9, 35, 480, 284, 5, 150, 4, 172, 112, 167, 2, 336, 385, 39, 4, 172, 4536, 1111, 17, 546, 38, 13, 447, 4, 192, 50, 16, 6, 147, 2025, 19, 14, 22, 4, 1920, 4613, 469, 4, 22, 71, 87, 12, 16, 43, 530, 38, 76, 15, 13, 1247, 4, 22, 17, 515, 17, 12, 16, 626, 18, 2, 5, 62, 386, 12, 8, 316, 8, 106, 5, 4, 2223, 5244, 16, 480, 66, 3785, 33, 4, 130, 12, 16, 38, 619, 5, 25, 124, 51, 36, 135, 48, 25, 1415, 33, 6, 22, 12, 215, 28, 77, 52, 5, 14, 407, 16, 82, 2, 8, 4, 107, 117, 5952, 15, 256, 4, 2, 7, 3766, 5, 723, 36, 71, 43, 530, 476, 26, 400, 317, 46, 7, 4, 2, 1029, 13, 104, 88, 4, 381, 15, 297, 98, 32, 2071, 56, 26, 141, 6, 194, 7486, 18, 4, 226, 22, 21, 134, 476, 26, 480, 5, 144, 30, 5535, 18, 51, 36, 28, 224, 92, 25, 104, 4, 226, 65, 16, 38, 1334, 88, 12, 16, 283, 5, 16, 4472, 113, 103, 32, 15, 16, 5345, 19, 178, 32]\n",
      "    1\n"
     ]
    }
   ],
   "source": [
    "# The data shows that each word in the review has been converted into an integer representing \n",
    "# a word in our master disctionary\n",
    "print(\"Training entries count: {}, labels: {}\".format(len(train_data), len(train_labels)))\n",
    "print(\"sample: \\n    {}\\n    {}\".format(train_data[0], train_labels[0]))"
   ]
  },
  {
   "cell_type": "code",
   "execution_count": 6,
   "metadata": {},
   "outputs": [
    {
     "data": {
      "text/plain": [
       "(218, 189)"
      ]
     },
     "execution_count": 6,
     "metadata": {},
     "output_type": "execute_result"
    }
   ],
   "source": [
    "# reviews can also haave different lengths\n",
    "len(train_data[0]), len(train_data[1])"
   ]
  },
  {
   "cell_type": "code",
   "execution_count": 7,
   "metadata": {},
   "outputs": [
    {
     "name": "stdout",
     "output_type": "stream",
     "text": [
      "Downloading data from https://storage.googleapis.com/tensorflow/tf-keras-datasets/imdb_word_index.json\n",
      "1646592/1641221 [==============================] - 1s 0us/step\n"
     ]
    }
   ],
   "source": [
    "# to convert our reviews back into english, we'll need a dictionary mapper\n",
    "word_index = imdb.get_word_index()\n",
    "\n",
    "# we need to reserve our first three indicies for special characters\n",
    "word_index = {k:(v+3) for k,v in word_index.items()}\n",
    "word_index[\"<PAD>\"] = 0\n",
    "word_index[\"<START>\"] = 1\n",
    "word_index[\"<UNK>\"] = 2\n",
    "word_index[\"<UNUSED>\"]=3\n",
    "\n",
    "reverse_word_index = dict([(value, key) for (key, value) in word_index.items()])\n",
    "\n",
    "def decode_review(text):\n",
    "    return ' '.join([reverse_word_index.get(i, '?') for i in text])"
   ]
  },
  {
   "cell_type": "code",
   "execution_count": 8,
   "metadata": {},
   "outputs": [
    {
     "data": {
      "text/plain": [
       "\"<START> this film was just brilliant casting location scenery story direction everyone's really suited the part they played and you could just imagine being there robert <UNK> is an amazing actor and now the same being director <UNK> father came from the same scottish island as myself so i loved the fact there was a real connection with this film the witty remarks throughout the film were great it was just brilliant so much that i bought the film as soon as it was released for <UNK> and would recommend it to everyone to watch and the fly fishing was amazing really cried at the end it was so sad and you know what they say if you cry at a film it must have been good and this definitely was also <UNK> to the two little boy's that played the <UNK> of norman and paul they were just brilliant children are often left out of the <UNK> list i think because the stars that play them all grown up are such a big profile for the whole film but these children are amazing and should be praised for what they have done don't you think the whole story was so lovely because it was true and was someone's life after all that was shared with us all\""
      ]
     },
     "execution_count": 8,
     "metadata": {},
     "output_type": "execute_result"
    }
   ],
   "source": [
    "decode_review(train_data[0])"
   ]
  },
  {
   "cell_type": "code",
   "execution_count": 9,
   "metadata": {},
   "outputs": [],
   "source": [
    "# for regularity across our samples, let's pad the end of each review \n",
    "# with empty characters so eachhas a length of 256\n",
    "train_data = keras.preprocessing.sequence.pad_sequences(train_data,\n",
    "                                                        value=word_index[\"<PAD>\"],\n",
    "                                                        padding='post',\n",
    "                                                        maxlen=256)\n",
    "\n",
    "test_data = keras.preprocessing.sequence.pad_sequences(test_data,\n",
    "                                                       value=word_index[\"<PAD>\"],\n",
    "                                                       padding='post',\n",
    "                                                       maxlen=256)"
   ]
  },
  {
   "cell_type": "code",
   "execution_count": 10,
   "metadata": {},
   "outputs": [
    {
     "data": {
      "text/plain": [
       "(256, 256)"
      ]
     },
     "execution_count": 10,
     "metadata": {},
     "output_type": "execute_result"
    }
   ],
   "source": [
    "# reviews should now all have the same length\n",
    "len(train_data[0]), len(train_data[1])"
   ]
  },
  {
   "cell_type": "code",
   "execution_count": 11,
   "metadata": {},
   "outputs": [
    {
     "name": "stdout",
     "output_type": "stream",
     "text": [
      "[   1   14   22   16   43  530  973 1622 1385   65  458 4468   66 3941\n",
      "    4  173   36  256    5   25  100   43  838  112   50  670    2    9\n",
      "   35  480  284    5  150    4  172  112  167    2  336  385   39    4\n",
      "  172 4536 1111   17  546   38   13  447    4  192   50   16    6  147\n",
      " 2025   19   14   22    4 1920 4613  469    4   22   71   87   12   16\n",
      "   43  530   38   76   15   13 1247    4   22   17  515   17   12   16\n",
      "  626   18    2    5   62  386   12    8  316    8  106    5    4 2223\n",
      " 5244   16  480   66 3785   33    4  130   12   16   38  619    5   25\n",
      "  124   51   36  135   48   25 1415   33    6   22   12  215   28   77\n",
      "   52    5   14  407   16   82    2    8    4  107  117 5952   15  256\n",
      "    4    2    7 3766    5  723   36   71   43  530  476   26  400  317\n",
      "   46    7    4    2 1029   13  104   88    4  381   15  297   98   32\n",
      " 2071   56   26  141    6  194 7486   18    4  226   22   21  134  476\n",
      "   26  480    5  144   30 5535   18   51   36   28  224   92   25  104\n",
      "    4  226   65   16   38 1334   88   12   16  283    5   16 4472  113\n",
      "  103   32   15   16 5345   19  178   32    0    0    0    0    0    0\n",
      "    0    0    0    0    0    0    0    0    0    0    0    0    0    0\n",
      "    0    0    0    0    0    0    0    0    0    0    0    0    0    0\n",
      "    0    0    0    0]\n"
     ]
    }
   ],
   "source": [
    "print(train_data[0])"
   ]
  },
  {
   "cell_type": "code",
   "execution_count": 12,
   "metadata": {},
   "outputs": [
    {
     "name": "stdout",
     "output_type": "stream",
     "text": [
      "Model: \"sequential\"\n",
      "_________________________________________________________________\n",
      "Layer (type)                 Output Shape              Param #   \n",
      "=================================================================\n",
      "embedding (Embedding)        (None, None, 16)          160000    \n",
      "_________________________________________________________________\n",
      "global_average_pooling1d (Gl (None, 16)                0         \n",
      "_________________________________________________________________\n",
      "dense (Dense)                (None, 16)                272       \n",
      "_________________________________________________________________\n",
      "dense_1 (Dense)              (None, 1)                 17        \n",
      "=================================================================\n",
      "Total params: 160,289\n",
      "Trainable params: 160,289\n",
      "Non-trainable params: 0\n",
      "_________________________________________________________________\n"
     ]
    }
   ],
   "source": [
    "# input shape is the vocabulary count used for the movie reviews (10,000 words)\n",
    "vocab_size = 10000\n",
    "\n",
    "model = keras.Sequential()\n",
    "model.add(keras.layers.Embedding(vocab_size, 16))\n",
    "model.add(keras.layers.GlobalAveragePooling1D())\n",
    "model.add(keras.layers.Dense(16, activation='relu'))\n",
    "model.add(keras.layers.Dense(1, activation='sigmoid'))\n",
    "\n",
    "model.summary()"
   ]
  },
  {
   "cell_type": "code",
   "execution_count": 14,
   "metadata": {},
   "outputs": [],
   "source": [
    "# like any model, we'll need a loss optimizer. Since we are looking for a binary result (probablility)\n",
    "# we'll opt for the binary_crossentropy optimizer. Another experiment might call for another optimizer.\n",
    "model.compile(optimizer='adam',\n",
    "              loss='binary_crossentropy',\n",
    "              metrics=['accuracy'])"
   ]
  },
  {
   "cell_type": "code",
   "execution_count": 17,
   "metadata": {},
   "outputs": [],
   "source": [
    "# we'll also want to break up the training data into batches. \n",
    "# This will allow us to tune our model to verify accurate results\n",
    "x_val = train_data[:10000]\n",
    "partial_x_train = train_data[10000:]\n",
    "\n",
    "y_val = train_labels[:10000]\n",
    "partial_y_train = train_labels[10000:]"
   ]
  },
  {
   "cell_type": "code",
   "execution_count": 25,
   "metadata": {},
   "outputs": [
    {
     "name": "stdout",
     "output_type": "stream",
     "text": [
      "Train on 15000 samples, validate on 10000 samples\n",
      "Epoch 1/40\n",
      "15000/15000 [==============================] - 1s 42us/sample - loss: 0.0856 - accuracy: 0.9789 - val_loss: 0.3189 - val_accuracy: 0.8823\n",
      "Epoch 2/40\n",
      "15000/15000 [==============================] - 1s 41us/sample - loss: 0.0819 - accuracy: 0.9801 - val_loss: 0.3238 - val_accuracy: 0.8815\n",
      "Epoch 3/40\n",
      "15000/15000 [==============================] - 1s 42us/sample - loss: 0.0788 - accuracy: 0.9814 - val_loss: 0.3267 - val_accuracy: 0.8822\n",
      "Epoch 4/40\n",
      "15000/15000 [==============================] - 1s 42us/sample - loss: 0.0758 - accuracy: 0.9830 - val_loss: 0.3318 - val_accuracy: 0.8801\n",
      "Epoch 5/40\n",
      "15000/15000 [==============================] - 1s 42us/sample - loss: 0.0728 - accuracy: 0.9831 - val_loss: 0.3346 - val_accuracy: 0.8809\n",
      "Epoch 6/40\n",
      "15000/15000 [==============================] - 1s 41us/sample - loss: 0.0698 - accuracy: 0.9843 - val_loss: 0.3412 - val_accuracy: 0.8779\n",
      "Epoch 7/40\n",
      "15000/15000 [==============================] - 1s 43us/sample - loss: 0.0673 - accuracy: 0.9854 - val_loss: 0.3439 - val_accuracy: 0.8776\n",
      "Epoch 8/40\n",
      "15000/15000 [==============================] - 1s 42us/sample - loss: 0.0644 - accuracy: 0.9859 - val_loss: 0.3477 - val_accuracy: 0.8786\n",
      "Epoch 9/40\n",
      "15000/15000 [==============================] - 1s 42us/sample - loss: 0.0620 - accuracy: 0.9872 - val_loss: 0.3539 - val_accuracy: 0.8774\n",
      "Epoch 10/40\n",
      "15000/15000 [==============================] - 1s 42us/sample - loss: 0.0593 - accuracy: 0.9881 - val_loss: 0.3569 - val_accuracy: 0.8782\n",
      "Epoch 11/40\n",
      "15000/15000 [==============================] - 1s 42us/sample - loss: 0.0570 - accuracy: 0.9889 - val_loss: 0.3627 - val_accuracy: 0.8771\n",
      "Epoch 12/40\n",
      "15000/15000 [==============================] - 1s 42us/sample - loss: 0.0549 - accuracy: 0.9893 - val_loss: 0.3689 - val_accuracy: 0.8738\n",
      "Epoch 13/40\n",
      "15000/15000 [==============================] - 1s 42us/sample - loss: 0.0530 - accuracy: 0.9901 - val_loss: 0.3722 - val_accuracy: 0.8753\n",
      "Epoch 14/40\n",
      "15000/15000 [==============================] - 1s 43us/sample - loss: 0.0506 - accuracy: 0.9909 - val_loss: 0.3774 - val_accuracy: 0.8754\n",
      "Epoch 15/40\n",
      "15000/15000 [==============================] - 1s 42us/sample - loss: 0.0487 - accuracy: 0.9914 - val_loss: 0.3814 - val_accuracy: 0.8749\n",
      "Epoch 16/40\n",
      "15000/15000 [==============================] - 1s 43us/sample - loss: 0.0467 - accuracy: 0.9921 - val_loss: 0.3882 - val_accuracy: 0.8722\n",
      "Epoch 17/40\n",
      "15000/15000 [==============================] - 1s 42us/sample - loss: 0.0447 - accuracy: 0.9925 - val_loss: 0.3922 - val_accuracy: 0.8738\n",
      "Epoch 18/40\n",
      "15000/15000 [==============================] - 1s 43us/sample - loss: 0.0434 - accuracy: 0.9932 - val_loss: 0.3980 - val_accuracy: 0.8720\n",
      "Epoch 19/40\n",
      "15000/15000 [==============================] - 1s 42us/sample - loss: 0.0414 - accuracy: 0.9935 - val_loss: 0.4028 - val_accuracy: 0.8725\n",
      "Epoch 20/40\n",
      "15000/15000 [==============================] - 1s 42us/sample - loss: 0.0398 - accuracy: 0.9935 - val_loss: 0.4079 - val_accuracy: 0.8721\n",
      "Epoch 21/40\n",
      "15000/15000 [==============================] - 1s 42us/sample - loss: 0.0382 - accuracy: 0.9940 - val_loss: 0.4127 - val_accuracy: 0.8716\n",
      "Epoch 22/40\n",
      "15000/15000 [==============================] - 1s 42us/sample - loss: 0.0367 - accuracy: 0.9947 - val_loss: 0.4184 - val_accuracy: 0.8722\n",
      "Epoch 23/40\n",
      "15000/15000 [==============================] - 1s 42us/sample - loss: 0.0353 - accuracy: 0.9953 - val_loss: 0.4239 - val_accuracy: 0.8709\n",
      "Epoch 24/40\n",
      "15000/15000 [==============================] - 1s 42us/sample - loss: 0.0339 - accuracy: 0.9956 - val_loss: 0.4292 - val_accuracy: 0.8710\n",
      "Epoch 25/40\n",
      "15000/15000 [==============================] - 1s 42us/sample - loss: 0.0328 - accuracy: 0.9956 - val_loss: 0.4397 - val_accuracy: 0.8708\n",
      "Epoch 26/40\n",
      "15000/15000 [==============================] - 1s 42us/sample - loss: 0.0319 - accuracy: 0.9955 - val_loss: 0.4416 - val_accuracy: 0.8715\n",
      "Epoch 27/40\n",
      "15000/15000 [==============================] - 1s 42us/sample - loss: 0.0301 - accuracy: 0.9964 - val_loss: 0.4458 - val_accuracy: 0.8702\n",
      "Epoch 28/40\n",
      "15000/15000 [==============================] - 1s 41us/sample - loss: 0.0290 - accuracy: 0.9966 - val_loss: 0.4515 - val_accuracy: 0.8692\n",
      "Epoch 29/40\n",
      "15000/15000 [==============================] - 1s 40us/sample - loss: 0.0282 - accuracy: 0.9968 - val_loss: 0.4581 - val_accuracy: 0.8701\n",
      "Epoch 30/40\n",
      "15000/15000 [==============================] - 1s 41us/sample - loss: 0.0274 - accuracy: 0.9967 - val_loss: 0.4663 - val_accuracy: 0.8689\n",
      "Epoch 31/40\n",
      "15000/15000 [==============================] - 1s 42us/sample - loss: 0.0261 - accuracy: 0.9971 - val_loss: 0.4681 - val_accuracy: 0.8686\n",
      "Epoch 32/40\n",
      "15000/15000 [==============================] - 1s 41us/sample - loss: 0.0251 - accuracy: 0.9972 - val_loss: 0.4728 - val_accuracy: 0.8678\n",
      "Epoch 33/40\n",
      "15000/15000 [==============================] - 1s 42us/sample - loss: 0.0242 - accuracy: 0.9973 - val_loss: 0.4813 - val_accuracy: 0.8680\n",
      "Epoch 34/40\n",
      "15000/15000 [==============================] - 1s 42us/sample - loss: 0.0232 - accuracy: 0.9974 - val_loss: 0.4835 - val_accuracy: 0.8683\n",
      "Epoch 35/40\n",
      "15000/15000 [==============================] - 1s 43us/sample - loss: 0.0220 - accuracy: 0.9977 - val_loss: 0.4890 - val_accuracy: 0.8685\n",
      "Epoch 36/40\n",
      "15000/15000 [==============================] - 1s 43us/sample - loss: 0.0213 - accuracy: 0.9978 - val_loss: 0.4964 - val_accuracy: 0.8664\n",
      "Epoch 37/40\n",
      "15000/15000 [==============================] - 1s 41us/sample - loss: 0.0202 - accuracy: 0.9982 - val_loss: 0.5003 - val_accuracy: 0.8671\n",
      "Epoch 38/40\n",
      "15000/15000 [==============================] - 1s 42us/sample - loss: 0.0196 - accuracy: 0.9981 - val_loss: 0.5063 - val_accuracy: 0.8660\n",
      "Epoch 39/40\n",
      "15000/15000 [==============================] - 1s 41us/sample - loss: 0.0188 - accuracy: 0.9984 - val_loss: 0.5127 - val_accuracy: 0.8660\n",
      "Epoch 40/40\n",
      "15000/15000 [==============================] - 1s 41us/sample - loss: 0.0181 - accuracy: 0.9986 - val_loss: 0.5146 - val_accuracy: 0.8667\n"
     ]
    }
   ],
   "source": [
    "# Here we are going to intentionally overfit our model to the training data\n",
    "# let's train our model on 40 epochs mini-batches of 512 samples using the 10k training set\n",
    "history = model.fit(partial_x_train,\n",
    "                    partial_y_train,\n",
    "                    epochs=40,\n",
    "                    batch_size=512,\n",
    "                    validation_data=(x_val, y_val),\n",
    "                    verbose=1)"
   ]
  },
  {
   "cell_type": "code",
   "execution_count": 20,
   "metadata": {},
   "outputs": [
    {
     "name": "stdout",
     "output_type": "stream",
     "text": [
      "25000/25000 [==============================] - 1s 26us/sample - loss: 0.3380 - accuracy: 0.8705\n",
      "[0.3380196026277542, 0.87048]\n"
     ]
    }
   ],
   "source": [
    "# now lets test results : [loss, accuracy]\n",
    "results = model.evaluate(test_data, test_labels)\n",
    "\n",
    "print(results)"
   ]
  },
  {
   "cell_type": "code",
   "execution_count": 21,
   "metadata": {},
   "outputs": [
    {
     "data": {
      "text/plain": [
       "dict_keys(['loss', 'accuracy', 'val_loss', 'val_accuracy'])"
      ]
     },
     "execution_count": 21,
     "metadata": {},
     "output_type": "execute_result"
    }
   ],
   "source": [
    "history_dict = history.history\n",
    "history_dict.keys()"
   ]
  },
  {
   "cell_type": "code",
   "execution_count": 23,
   "metadata": {},
   "outputs": [
    {
     "data": {
      "text/plain": [
       "<Figure size 640x480 with 1 Axes>"
      ]
     },
     "metadata": {},
     "output_type": "display_data"
    }
   ],
   "source": [
    "# Let's plot our training history\n",
    "import matplotlib.pyplot as plt\n",
    "\n",
    "acc = history_dict['accuracy']\n",
    "val_acc = history_dict['val_accuracy']\n",
    "loss = history_dict['loss']\n",
    "val_loss = history_dict['val_loss']\n",
    "\n",
    "epochs = range(1, len(acc) + 1)\n",
    "\n",
    "# \"bo\" is for \"blue dot\"\n",
    "plt.plot(epochs, loss, 'bo', label='Training loss')\n",
    "# b is for \"solid blue line\"\n",
    "plt.plot(epochs, val_loss, 'b', label='Validation loss')\n",
    "plt.title('Training and validation loss')\n",
    "plt.xlabel('Epochs')\n",
    "plt.ylabel('Loss')\n",
    "plt.legend()\n",
    "\n",
    "plt.show()"
   ]
  },
  {
   "cell_type": "code",
   "execution_count": 26,
   "metadata": {},
   "outputs": [
    {
     "data": {
      "image/png": "[encoded data removed]",
      "text/plain": [
       "<Figure size 432x288 with 1 Axes>"
      ]
     },
     "metadata": {
      "needs_background": "light"
     },
     "output_type": "display_data"
    }
   ],
   "source": [
    "# As the graph below shows, accuracy of the training data improves with each epoch. However, the training data \n",
    "# stops improving after about 12. At this point we are training the model to the training data not to the problem\n",
    "\n",
    "plt.clf()   # clear figure\n",
    "\n",
    "plt.plot(epochs, acc, 'bo', label='Training acc')\n",
    "plt.plot(epochs, val_acc, 'b', label='Validation acc')\n",
    "plt.title('Training and validation accuracy')\n",
    "plt.xlabel('Epochs')\n",
    "plt.ylabel('Accuracy')\n",
    "plt.legend()\n",
    "\n",
    "plt.show()"
   ]
  },
  {
   "cell_type": "code",
   "execution_count": null,
   "metadata": {},
   "outputs": [],
   "source": []
  }
 ],
 "metadata": {
  "kernelspec": {
   "display_name": "Python 3",
   "language": "python",
   "name": "python3"
  },
  "language_info": {
   "codemirror_mode": {
    "name": "ipython",
    "version": 3
   },
   "file_extension": ".py",
   "mimetype": "text/x-python",
   "name": "python",
   "nbconvert_exporter": "python",
   "pygments_lexer": "ipython3",
   "version": "3.6.7"
  }
 },
 "nbformat": 4,
 "nbformat_minor": 2
}
